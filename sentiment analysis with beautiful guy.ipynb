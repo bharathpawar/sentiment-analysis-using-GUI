{
 "cells": [
  {
   "cell_type": "code",
   "execution_count": null,
   "metadata": {},
   "outputs": [],
   "source": [
    "from textblob import TextBlob\n",
    "import speech_recognition as sr\n",
    "import tkinter as tk\n",
    "import pyttsx3"
   ]
  },
  {
   "cell_type": "code",
   "execution_count": 5,
   "metadata": {},
   "outputs": [
    {
     "ename": "SyntaxError",
     "evalue": "invalid syntax (<ipython-input-5-0fcbd9758ac1>, line 1)",
     "output_type": "error",
     "traceback": [
      "\u001b[0;36m  File \u001b[0;32m\"<ipython-input-5-0fcbd9758ac1>\"\u001b[0;36m, line \u001b[0;32m1\u001b[0m\n\u001b[0;31m    brew install portaudio\u001b[0m\n\u001b[0m         ^\u001b[0m\n\u001b[0;31mSyntaxError\u001b[0m\u001b[0;31m:\u001b[0m invalid syntax\n"
     ]
    }
   ],
   "source": [
    "brew install portaudio \n",
    "pip install pyaudio"
   ]
  },
  {
   "cell_type": "code",
   "execution_count": 7,
   "metadata": {},
   "outputs": [],
   "source": [
    "engine=pyttsx3.init()"
   ]
  },
  {
   "cell_type": "code",
   "execution_count": 8,
   "metadata": {},
   "outputs": [],
   "source": [
    "#defining function to get voice command\n",
    "def check():\n",
    "    global order\n",
    "    r=sr.Recognizer()\n",
    "    with sr.Microphone() as source:\n",
    "        audio=r.listen(source)#listening audio\n",
    "        order=r.recognize_google(audio,language=\"en-in\")\n",
    "        #insert in texture\n",
    "    sen_analy()"
   ]
  },
  {
   "cell_type": "code",
   "execution_count": 9,
   "metadata": {},
   "outputs": [],
   "source": [
    "#sentiment analysis\n",
    "def sen_analy():\n",
    "    obj=TextBlob(order)\n",
    "    sentiment=obj.sentiment.polarity\n",
    "    if sentiment>0:\n",
    "        engine.say(\"your sentence is positive\")\n",
    "        engine.runAndWait()\n",
    "        l2.configure(text=\"positive\\nSentence\\n:)\")\n",
    "    elif sentiment==0:\n",
    "        engine.say(\"your sentence is neutral\")\n",
    "        engine.runAndWait()\n",
    "        l2.configure(text=\"Neutral\\nSentence\\n(-_-)\")\n",
    "    else:\n",
    "        engine.say(\"your sentence is Negative\")\n",
    "        engine.runAndWait()\n",
    "        l2.configure(text=\"Negative\\nSentence\\n:(\")"
   ]
  },
  {
   "cell_type": "code",
   "execution_count": 10,
   "metadata": {},
   "outputs": [],
   "source": [
    "#sentiment analysis\n",
    "def sen_analy():\n",
    "    obj=TextBlob(order)\n",
    "    sentiment=obj.sentiment.polarity\n",
    "    if sentiment>0:\n",
    "        engine.say(\"your sentence is positive\")\n",
    "        engine.runAndWait()\n",
    "        l2.configure(text=\"positive\\nSentence\\n:)\")\n",
    "    elif sentiment==0:\n",
    "        engine.say(\"your sentence is neutral\")\n",
    "        engine.runAndWait()\n",
    "        l2.configure(text=\"Neutral\\nSentence\\n(-_-)\")\n",
    "    else:\n",
    "        engine.say(\"your sentence is Negative\")\n",
    "        engine.runAndWait()\n",
    "        l2.configure(text=\"Negative\\nSentence\\n:(\")"
   ]
  },
  {
   "cell_type": "code",
   "execution_count": 11,
   "metadata": {},
   "outputs": [
    {
     "name": "stderr",
     "output_type": "stream",
     "text": [
      "Exception in Tkinter callback\n",
      "Traceback (most recent call last):\n",
      "  File \"/Users/pawarbharath/.local/lib/python3.8/site-packages/speech_recognition/__init__.py\", line 108, in get_pyaudio\n",
      "    import pyaudio\n",
      "ModuleNotFoundError: No module named 'pyaudio'\n",
      "\n",
      "During handling of the above exception, another exception occurred:\n",
      "\n",
      "Traceback (most recent call last):\n",
      "  File \"/opt/anaconda3/lib/python3.8/tkinter/__init__.py\", line 1883, in __call__\n",
      "    return self.func(*args)\n",
      "  File \"<ipython-input-8-a1907bdb3946>\", line 5, in check\n",
      "    with sr.Microphone() as source:\n",
      "  File \"/Users/pawarbharath/.local/lib/python3.8/site-packages/speech_recognition/__init__.py\", line 79, in __init__\n",
      "    self.pyaudio_module = self.get_pyaudio()\n",
      "  File \"/Users/pawarbharath/.local/lib/python3.8/site-packages/speech_recognition/__init__.py\", line 110, in get_pyaudio\n",
      "    raise AttributeError(\"Could not find PyAudio; check installation\")\n",
      "AttributeError: Could not find PyAudio; check installation\n",
      "Exception in Tkinter callback\n",
      "Traceback (most recent call last):\n",
      "  File \"/Users/pawarbharath/.local/lib/python3.8/site-packages/speech_recognition/__init__.py\", line 108, in get_pyaudio\n",
      "    import pyaudio\n",
      "ModuleNotFoundError: No module named 'pyaudio'\n",
      "\n",
      "During handling of the above exception, another exception occurred:\n",
      "\n",
      "Traceback (most recent call last):\n",
      "  File \"/opt/anaconda3/lib/python3.8/tkinter/__init__.py\", line 1883, in __call__\n",
      "    return self.func(*args)\n",
      "  File \"<ipython-input-8-a1907bdb3946>\", line 5, in check\n",
      "    with sr.Microphone() as source:\n",
      "  File \"/Users/pawarbharath/.local/lib/python3.8/site-packages/speech_recognition/__init__.py\", line 79, in __init__\n",
      "    self.pyaudio_module = self.get_pyaudio()\n",
      "  File \"/Users/pawarbharath/.local/lib/python3.8/site-packages/speech_recognition/__init__.py\", line 110, in get_pyaudio\n",
      "    raise AttributeError(\"Could not find PyAudio; check installation\")\n",
      "AttributeError: Could not find PyAudio; check installation\n",
      "Exception in Tkinter callback\n",
      "Traceback (most recent call last):\n",
      "  File \"/Users/pawarbharath/.local/lib/python3.8/site-packages/speech_recognition/__init__.py\", line 108, in get_pyaudio\n",
      "    import pyaudio\n",
      "ModuleNotFoundError: No module named 'pyaudio'\n",
      "\n",
      "During handling of the above exception, another exception occurred:\n",
      "\n",
      "Traceback (most recent call last):\n",
      "  File \"/opt/anaconda3/lib/python3.8/tkinter/__init__.py\", line 1883, in __call__\n",
      "    return self.func(*args)\n",
      "  File \"<ipython-input-8-a1907bdb3946>\", line 5, in check\n",
      "    with sr.Microphone() as source:\n",
      "  File \"/Users/pawarbharath/.local/lib/python3.8/site-packages/speech_recognition/__init__.py\", line 79, in __init__\n",
      "    self.pyaudio_module = self.get_pyaudio()\n",
      "  File \"/Users/pawarbharath/.local/lib/python3.8/site-packages/speech_recognition/__init__.py\", line 110, in get_pyaudio\n",
      "    raise AttributeError(\"Could not find PyAudio; check installation\")\n",
      "AttributeError: Could not find PyAudio; check installation\n",
      "Exception in Tkinter callback\n",
      "Traceback (most recent call last):\n",
      "  File \"/Users/pawarbharath/.local/lib/python3.8/site-packages/speech_recognition/__init__.py\", line 108, in get_pyaudio\n",
      "    import pyaudio\n",
      "ModuleNotFoundError: No module named 'pyaudio'\n",
      "\n",
      "During handling of the above exception, another exception occurred:\n",
      "\n",
      "Traceback (most recent call last):\n",
      "  File \"/opt/anaconda3/lib/python3.8/tkinter/__init__.py\", line 1883, in __call__\n",
      "    return self.func(*args)\n",
      "  File \"<ipython-input-8-a1907bdb3946>\", line 5, in check\n",
      "    with sr.Microphone() as source:\n",
      "  File \"/Users/pawarbharath/.local/lib/python3.8/site-packages/speech_recognition/__init__.py\", line 79, in __init__\n",
      "    self.pyaudio_module = self.get_pyaudio()\n",
      "  File \"/Users/pawarbharath/.local/lib/python3.8/site-packages/speech_recognition/__init__.py\", line 110, in get_pyaudio\n",
      "    raise AttributeError(\"Could not find PyAudio; check installation\")\n",
      "AttributeError: Could not find PyAudio; check installation\n",
      "Exception in Tkinter callback\n",
      "Traceback (most recent call last):\n",
      "  File \"/Users/pawarbharath/.local/lib/python3.8/site-packages/speech_recognition/__init__.py\", line 108, in get_pyaudio\n",
      "    import pyaudio\n",
      "ModuleNotFoundError: No module named 'pyaudio'\n",
      "\n",
      "During handling of the above exception, another exception occurred:\n",
      "\n",
      "Traceback (most recent call last):\n",
      "  File \"/opt/anaconda3/lib/python3.8/tkinter/__init__.py\", line 1883, in __call__\n",
      "    return self.func(*args)\n",
      "  File \"<ipython-input-8-a1907bdb3946>\", line 5, in check\n",
      "    with sr.Microphone() as source:\n",
      "  File \"/Users/pawarbharath/.local/lib/python3.8/site-packages/speech_recognition/__init__.py\", line 79, in __init__\n",
      "    self.pyaudio_module = self.get_pyaudio()\n",
      "  File \"/Users/pawarbharath/.local/lib/python3.8/site-packages/speech_recognition/__init__.py\", line 110, in get_pyaudio\n",
      "    raise AttributeError(\"Could not find PyAudio; check installation\")\n",
      "AttributeError: Could not find PyAudio; check installation\n"
     ]
    },
    {
     "ename": "SystemExit",
     "evalue": "0",
     "output_type": "error",
     "traceback": [
      "An exception has occurred, use %tb to see the full traceback.\n",
      "\u001b[0;31mSystemExit\u001b[0m\u001b[0;31m:\u001b[0m 0\n"
     ]
    },
    {
     "name": "stderr",
     "output_type": "stream",
     "text": [
      "/opt/anaconda3/lib/python3.8/site-packages/IPython/core/interactiveshell.py:3351: UserWarning: To exit: use 'exit', 'quit', or Ctrl-D.\n",
      "  warn(\"To exit: use 'exit', 'quit', or Ctrl-D.\", stacklevel=1)\n"
     ]
    }
   ],
   "source": [
    "#creating gui\n",
    "root=tk.Tk()\n",
    "root.geometry(\"500x300\")\n",
    "root.title(\"EDUYEAR\")\n",
    "root.configure(bg=\"black\")\n",
    "font=(\"verdana\",15,\"bold\")\n",
    "font2=(\"verdana\",30,\"bold\")\n",
    "l1=tk.Label(root,text=\"click on the button to speak\",bg=\"black\",fg=\"white\",font=font)\n",
    "l1.place(x=1000,y=10)\n",
    "\n",
    "l2=tk.Label(root,text=\":)\",bg=\"black\",fg=\"white\",font=font2)\n",
    "l2.place(x=120,y=50)\n",
    "b1=tk.Button(root,text=\"speak\",bg=\"red\",fg=\"white\",command=check)\n",
    "b1.place(x=50,y=220,height=50,width=400)\n",
    "\n",
    "root.mainloop()"
   ]
  },
  {
   "cell_type": "code",
   "execution_count": null,
   "metadata": {},
   "outputs": [],
   "source": []
  }
 ],
 "metadata": {
  "kernelspec": {
   "display_name": "Python 3",
   "language": "python",
   "name": "python3"
  },
  "language_info": {
   "codemirror_mode": {
    "name": "ipython",
    "version": 3
   },
   "file_extension": ".py",
   "mimetype": "text/x-python",
   "name": "python",
   "nbconvert_exporter": "python",
   "pygments_lexer": "ipython3",
   "version": "3.8.3"
  }
 },
 "nbformat": 4,
 "nbformat_minor": 4
}
